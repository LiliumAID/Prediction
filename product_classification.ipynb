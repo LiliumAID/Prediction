{
 "cells": [
  {
   "cell_type": "markdown",
   "id": "a0e6b10d",
   "metadata": {},
   "source": [
    "\n",
    "\n",
    "\n",
    "# 🛍️ Produkt Klasifikacija\n",
    "\n",
    "Ova sveska prikazuje primer klasifikacije proizvoda u kategorije pomoću **TF-IDF** i **Logistic Regression** modela. Cilj ovog notebook-a je razviti model mašinskog učenja koji predviđa kategoriju proizvoda na osnovu naziva.  \n",
    "Ovaj model omogućava automatsku klasifikaciju proizvoda u online trgovini, čime se smanjuje vreme unosa i mogućnost greške."
   ]
  },
  {
   "cell_type": "code",
   "execution_count": null,
   "id": "5dc92b48",
   "metadata": {},
   "outputs": [],
   "source": [
    "# Učitavanje potrebnih biblioteka\n",
    "import pandas as pd\n",
    "import numpy as np\n",
    "from sklearn.model_selection import train_test_split\n",
    "from sklearn.feature_extraction.text import TfidfVectorizer\n",
    "from sklearn.preprocessing import LabelEncoder\n",
    "from sklearn.naive_bayes import MultinomialNB\n",
    "from sklearn.linear_model import LogisticRegression\n",
    "from sklearn.metrics import classification_report, confusion_matrix, accuracy_score\n",
    "import pickle\n"
   ]
  },
  {
   "cell_type": "markdown",
   "id": "8039e71d",
   "metadata": {},
   "source": [
    "## 1. Učitavanje i pregled podataka\n"
   ]
  },
  {
   "cell_type": "code",
   "execution_count": null,
   "id": "25132d76",
   "metadata": {},
   "outputs": [],
   "source": [
    "# Učitavanje CSV fajla sa punim path-om\n",
    "file_path = r\"C:\\Users\\Administrator\\Desktop\\IMLP4_TASK_03-products.csv\"\n",
    "df = pd.read_csv(file_path)\n",
    "\n",
    "# Pregled prvih 5 redova\n",
    "df.head()\n",
    "\n"
   ]
  },
  {
   "cell_type": "markdown",
   "id": "2614c9b4",
   "metadata": {},
   "source": [
    "## 2. Čišćenje podataka\n",
    "\n",
    "- Provera praznih vrednosti\n",
    "- Standardizacija naziva kolona\n"
   ]
  },
  {
   "cell_type": "code",
   "execution_count": null,
   "id": "129e5556",
   "metadata": {},
   "outputs": [],
   "source": [
    "\n",
    "\n",
    "# Standardizacija naziva kolona: uklanjanje razmaka, mala slova, zamena specijalnih karaktera\n",
    "df.columns = df.columns.str.strip().str.replace(' ', '_').str.lower()\n",
    "\n",
    "# Prikaz prvih nekoliko redova i kolona\n",
    "print(\"Nazivi kolona:\", df.columns)\n",
    "print(df.head())\n",
    "\n",
    "# Provera praznih vrednosti\n",
    "print(\"\\nBroj praznih vrednosti po koloni:\")\n",
    "print(df.isnull().sum())\n",
    "\n",
    "# Uklanjanje redova sa nedostajućim nazivom proizvoda ili kategorijom\n",
    "\n",
    "df = df.dropna(subset=['product_title', 'category_label'])\n",
    "\n",
    "# Prikaz broja redova nakon čišćenja\n",
    "print(\"\\nBroj redova nakon uklanjanja praznih vrednosti:\", len(df))\n"
   ]
  },
  {
   "cell_type": "markdown",
   "id": "384b742f",
   "metadata": {},
   "source": [
    "## 3. Feature engineering\n",
    "\n",
    "- Dužina naslova proizvoda\n",
    "- Broj reči\n",
    "- Prisustvo brojeva u nazivu\n"
   ]
  },
  {
   "cell_type": "code",
   "execution_count": null,
   "id": "03ddc0c3",
   "metadata": {},
   "outputs": [],
   "source": [
    "# Kreiranje dodatnih feature-a na osnovu naziva proizvoda\n",
    "df['title_length'] = df['product_title'].apply(len)\n",
    "df['word_count'] = df['product_title'].apply(lambda x: len(str(x).split()))\n",
    "df['has_number'] = df['product_title'].apply(lambda x: any(char.isdigit() for char in str(x)))\n",
    "df['has_uppercase'] = df['product_title'].apply(lambda x: any(char.isupper() for char in str(x)))\n",
    "\n",
    "# Prikaz prvih nekoliko redova sa novim feature-ima\n",
    "df[['product_title', 'title_length', 'word_count', 'has_number', 'has_uppercase']].head()\n",
    "\n"
   ]
  },
  {
   "cell_type": "markdown",
   "id": "3fec85be",
   "metadata": {},
   "source": [
    "## 4. Priprema podataka za model\n",
    "\n",
    "- TF-IDF vektorizacija naziva proizvoda\n",
    "- Kodiranje kategorija\n"
   ]
  },
  {
   "cell_type": "code",
   "execution_count": null,
   "id": "473c09c9",
   "metadata": {},
   "outputs": [],
   "source": [
    "# Vektorizacija naziva proizvoda\n",
    "tfidf = TfidfVectorizer(max_features=5000)\n",
    "X_text = tfidf.fit_transform(df['product_title'])\n",
    "\n",
    "# Kombinovanje sa dodatnim feature-ima\n",
    "X_additional = df[['title_length', 'word_count', 'has_number']].astype(float)\n",
    "from scipy.sparse import hstack\n",
    "X = hstack([X_text, X_additional])\n",
    "\n",
    "# Kodiranje ciljnih kategorija\n",
    "le = LabelEncoder()\n",
    "y = le.fit_transform(df['category_label'])\n",
    "\n",
    "# Podela na trening i test skup\n",
    "X_train, X_test, y_train, y_test = train_test_split(X, y, test_size=0.2, random_state=42)\n",
    "\n"
   ]
  },
  {
   "cell_type": "markdown",
   "id": "a970fc57",
   "metadata": {},
   "source": [
    "## 5. Treniranje i evaluacija modela\n",
    "\n",
    "- Uporedićemo Naive Bayes i Logistic Regression\n",
    "\n"
   ]
  },
  {
   "cell_type": "code",
   "execution_count": null,
   "id": "6a5bf881",
   "metadata": {},
   "outputs": [],
   "source": [
    "# Treniranje Naive Bayes modela\n",
    "nb_model = MultinomialNB()\n",
    "nb_model.fit(X_train, y_train)\n",
    "y_pred_nb = nb_model.predict(X_test)\n",
    "print(\"Naive Bayes Accuracy:\", accuracy_score(y_test, y_pred_nb))\n",
    "print(classification_report(y_test, y_pred_nb, target_names=le.classes_))\n",
    "\n",
    "# Treniranje Logistic Regression modela\n",
    "lr_model = LogisticRegression(max_iter=1000)\n",
    "lr_model.fit(X_train, y_train)\n",
    "y_pred_lr = lr_model.predict(X_test)\n",
    "print(\"Logistic Regression Accuracy:\", accuracy_score(y_test, y_pred_lr))\n",
    "print(classification_report(y_test, y_pred_lr, target_names=le.classes_))\n"
   ]
  },
  {
   "cell_type": "markdown",
   "id": "1a99ae7d",
   "metadata": {},
   "source": [
    "## 6. Sačuvaj finalni model i vektorizator\n"
   ]
  },
  {
   "cell_type": "code",
   "execution_count": null,
   "id": "2b0ec60d",
   "metadata": {},
   "outputs": [],
   "source": [
    "# Čuvanje Logistic Regression modela i TF-IDF vektorizatora\n",
    "with open('final_model.pkl', 'wb') as f:\n",
    "    pickle.dump(lr_model, f)\n",
    "\n",
    "with open('tfidf_vectorizer.pkl', 'wb') as f:\n",
    "    pickle.dump(tfidf, f)\n",
    "\n",
    "with open('label_encoder.pkl', 'wb') as f:\n",
    "    pickle.dump(le, f)\n"
   ]
  },
  {
   "cell_type": "markdown",
   "id": "4473084a",
   "metadata": {},
   "source": [
    "## 7. Interaktivno testiranje modela\n"
   ]
  },
  {
   "cell_type": "code",
   "execution_count": null,
   "id": "01f0acfa",
   "metadata": {},
   "outputs": [],
   "source": [
    "# Učitavanje modela, vektorizatora i label encoder-a\n",
    "with open('final_model.pkl', 'rb') as f:\n",
    "    loaded_model = pickle.load(f)\n",
    "with open('tfidf_vectorizer.pkl', 'rb') as f:\n",
    "    loaded_tfidf = pickle.load(f)\n",
    "with open('label_encoder.pkl', 'rb') as f:\n",
    "    loaded_le = pickle.load(f)\n",
    "\n",
    "# Funkcija za predikciju kategorije\n",
    "def predict_category(product_title):\n",
    "    x_text = loaded_tfidf.transform([product_title])\n",
    "    x_additional = np.array([[len(product_title), len(product_title.split()), any(char.isdigit() for char in product_title)]])\n",
    "    from scipy.sparse import hstack\n",
    "    X_final = hstack([x_text, x_additional])\n",
    "    pred = loaded_model.predict(X_final)\n",
    "    return loaded_le.inverse_transform(pred)[0]\n",
    "\n",
    "# Testiranje\n",
    "test_titles = [\n",
    "    \"iphone 7 32gb gold\",\n",
    "    \"olympus e m10 mark iii geh use silber\",\n",
    "    \"kenwood k20mss15 solo\",\n",
    "    \"bosch wap28390gb 8kg 1400 spin\",\n",
    "    \"smeg sbs8004po\"\n",
    "]\n",
    "\n",
    "for title in test_titles:\n",
    "    print(f\"{title} --> {predict_category(title)}\")\n"
   ]
  },
  {
   "cell_type": "markdown",
   "id": "3ed1df28",
   "metadata": {},
   "source": [
    "## 8. Zaključak\n",
    "\n",
    "- Model može automatski predvideti kategorije proizvoda sa velikom preciznošću.\n",
    "- Dodatne karakteristike naslova (dužina, broj reči, prisustvo brojeva) poboljšavaju performanse.\n",
    "- Logistic Regression je finalni model zbog bolje tačnosti i stabilnosti.\n",
    "- Model je sačuvan u `.pkl` formatu i može se koristiti za interaktivno predviđanje novih proizvoda.\n"
   ]
  }
 ],
 "metadata": {
  "kernelspec": {
   "display_name": "Python 3",
   "language": "python",
   "name": "python3"
  },
  "language_info": {
   "codemirror_mode": {
    "name": "ipython",
    "version": 3
   },
   "file_extension": ".py",
   "mimetype": "text/x-python",
   "name": "python",
   "nbconvert_exporter": "python",
   "pygments_lexer": "ipython3",
   "version": "3.13.3"
  }
 },
 "nbformat": 4,
 "nbformat_minor": 5
}
